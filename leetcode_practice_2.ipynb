{
 "cells": [
  {
   "cell_type": "markdown",
   "metadata": {},
   "source": [
    "\n",
    "### Given an integer <i>n</i>, return true if it is a power of two. Otherwise, return false.\n",
    "### An integer <i>n</i> is a power of two, if there exists an integer <i>x</i> such that <u>n == 2</u><sup>x</sup>\n",
    "<b>Constraints</b>: -2<sup>31</sup> <= n <= 2<sup>31</sup>-1"
   ]
  },
  {
   "cell_type": "code",
   "execution_count": 13,
   "metadata": {},
   "outputs": [],
   "source": [
    "input2_1 = 1\n",
    "input2_2 = 2\n",
    "input2_3 = 3\n",
    "input2_4 = 4\n",
    "input2_5 = 8"
   ]
  },
  {
   "cell_type": "code",
   "execution_count": 14,
   "metadata": {},
   "outputs": [],
   "source": [
    "# Write your code here\n",
    "def power2(n):\n",
    "    if n <= 0:\n",
    "        return False\n",
    "    while n>0:\n",
    "        if n == 1:\n",
    "            return True\n",
    "        elif n%2==0:\n",
    "            n=n/2\n",
    "        else:\n",
    "            return False"
   ]
  },
  {
   "cell_type": "code",
   "execution_count": 15,
   "metadata": {},
   "outputs": [
    {
     "data": {
      "text/plain": [
       "True"
      ]
     },
     "execution_count": 15,
     "metadata": {},
     "output_type": "execute_result"
    }
   ],
   "source": [
    "power2(input2_1)"
   ]
  },
  {
   "cell_type": "code",
   "execution_count": 16,
   "metadata": {},
   "outputs": [
    {
     "data": {
      "text/plain": [
       "True"
      ]
     },
     "execution_count": 16,
     "metadata": {},
     "output_type": "execute_result"
    }
   ],
   "source": [
    "power2(input2_2)"
   ]
  },
  {
   "cell_type": "code",
   "execution_count": 17,
   "metadata": {},
   "outputs": [
    {
     "data": {
      "text/plain": [
       "False"
      ]
     },
     "execution_count": 17,
     "metadata": {},
     "output_type": "execute_result"
    }
   ],
   "source": [
    "power2(input2_3)"
   ]
  },
  {
   "cell_type": "code",
   "execution_count": 18,
   "metadata": {},
   "outputs": [
    {
     "data": {
      "text/plain": [
       "True"
      ]
     },
     "execution_count": 18,
     "metadata": {},
     "output_type": "execute_result"
    }
   ],
   "source": [
    "power2(input2_4)"
   ]
  },
  {
   "cell_type": "code",
   "execution_count": 19,
   "metadata": {},
   "outputs": [
    {
     "data": {
      "text/plain": [
       "True"
      ]
     },
     "execution_count": 19,
     "metadata": {},
     "output_type": "execute_result"
    }
   ],
   "source": [
    "power2(input2_5)"
   ]
  },
  {
   "cell_type": "markdown",
   "metadata": {},
   "source": [
    "\n",
    "### Given an array <i>A</i> of strings made only from lowercase letters, return a list of all characters that show up in all strings within the list (including duplicates). For example, if a character occurs 3 times in all strings but not 4 times, you need to include that character three times in the final answer.\n",
    "### You may return the answer in any order.\n",
    "<b>Note</b>:\n",
    "- 1 <= A.length <= 100\n",
    "- 1 <= A[i].length <= 100\n",
    "- A[i][j] is a lowercase letter\n",
    "\n",
    "Example: Input = ['bella','label', roller], Output = ['e', 'l', 'l']"
   ]
  },
  {
   "cell_type": "code",
   "execution_count": 20,
   "metadata": {},
   "outputs": [],
   "source": [
    "input3_1 = ['bella','label','roller']\n",
    "input3_2 = ['happy','chopper','phase']\n",
    "input3_3 = ['truth','true','try']"
   ]
  },
  {
   "cell_type": "code",
   "execution_count": 21,
   "metadata": {},
   "outputs": [],
   "source": [
    "# Write your code here\n",
    "def findchar(lst):\n",
    "    first = list(lst[0])\n",
    "    for x in lst:\n",
    "        charaters = []\n",
    "        for char in x:\n",
    "            if char in first:\n",
    "                charaters.append(char)\n",
    "                first.remove(char)\n",
    "        first = charaters\n",
    "    return first "
   ]
  },
  {
   "cell_type": "code",
   "execution_count": 22,
   "metadata": {},
   "outputs": [
    {
     "data": {
      "text/plain": [
       "['l', 'l', 'e']"
      ]
     },
     "execution_count": 22,
     "metadata": {},
     "output_type": "execute_result"
    }
   ],
   "source": [
    "findchar(input3_1)"
   ]
  },
  {
   "cell_type": "code",
   "execution_count": 23,
   "metadata": {},
   "outputs": [
    {
     "data": {
      "text/plain": [
       "['p', 'h']"
      ]
     },
     "execution_count": 23,
     "metadata": {},
     "output_type": "execute_result"
    }
   ],
   "source": [
    "findchar(input3_2)"
   ]
  },
  {
   "cell_type": "code",
   "execution_count": 24,
   "metadata": {},
   "outputs": [
    {
     "data": {
      "text/plain": [
       "['t', 'r']"
      ]
     },
     "execution_count": 24,
     "metadata": {},
     "output_type": "execute_result"
    }
   ],
   "source": [
    "findchar(input3_3)"
   ]
  },
  {
   "cell_type": "markdown",
   "metadata": {},
   "source": [
    "\n",
    "### Given a string, find the first non-repeating character in it and return its index. If it doesn't exist, return -1.\n",
    "<b>Note</b>: You may assume the string contains only lowercase English letters.\n",
    "<br>Example: s = 'leetcode' return 0\n",
    "<br>Explanation: The first non-repeating letter is l, it has the index of 0"
   ]
  },
  {
   "cell_type": "code",
   "execution_count": 25,
   "metadata": {},
   "outputs": [],
   "source": [
    "input4_1 = 'leetcode'\n",
    "input4_2 = 'adam'\n",
    "input4_3 = 'sees'\n",
    "input4_4 = 'noone'"
   ]
  },
  {
   "cell_type": "code",
   "execution_count": 26,
   "metadata": {},
   "outputs": [],
   "source": [
    "# Write your code here\n",
    "def index(string):\n",
    "    dic = {}\n",
    "    num = 0\n",
    "    for x,y in enumerate(string):\n",
    "        if y in dic:\n",
    "            dic[y] +=1\n",
    "        else:\n",
    "            dic[y] = 1\n",
    "    for key, value in dic.items():\n",
    "        if value ==1:\n",
    "            num = string.index(key)\n",
    "            return num\n",
    "    return -1"
   ]
  },
  {
   "cell_type": "code",
   "execution_count": 27,
   "metadata": {},
   "outputs": [
    {
     "data": {
      "text/plain": [
       "0"
      ]
     },
     "execution_count": 27,
     "metadata": {},
     "output_type": "execute_result"
    }
   ],
   "source": [
    "index(input4_1)"
   ]
  },
  {
   "cell_type": "code",
   "execution_count": 28,
   "metadata": {},
   "outputs": [
    {
     "data": {
      "text/plain": [
       "1"
      ]
     },
     "execution_count": 28,
     "metadata": {},
     "output_type": "execute_result"
    }
   ],
   "source": [
    "index(input4_2)"
   ]
  },
  {
   "cell_type": "code",
   "execution_count": 29,
   "metadata": {},
   "outputs": [
    {
     "data": {
      "text/plain": [
       "-1"
      ]
     },
     "execution_count": 29,
     "metadata": {},
     "output_type": "execute_result"
    }
   ],
   "source": [
    "index(input4_3)"
   ]
  },
  {
   "cell_type": "code",
   "execution_count": 30,
   "metadata": {},
   "outputs": [
    {
     "data": {
      "text/plain": [
       "4"
      ]
     },
     "execution_count": 30,
     "metadata": {},
     "output_type": "execute_result"
    }
   ],
   "source": [
    "index(input4_4)"
   ]
  },
  {
   "cell_type": "markdown",
   "metadata": {},
   "source": [
    "\n",
    "### Given a binary array, find the maximum number of consecutive 1s in this array.\n",
    "<b>Note</b>:\n",
    "- The input array will only contain 0 and 1.\n",
    "- The length of input array is a positive integer and will not exceed 10,000\n",
    "<br>Example: Input = [1,1,0,1,1,1], Output = 3\n",
    "<br>Explanation:\n",
    "- The first two digits or the last three digits are consecutive 1s\n",
    "- The maximum number of consecutive 1s is 3"
   ]
  },
  {
   "cell_type": "code",
   "execution_count": 31,
   "metadata": {},
   "outputs": [],
   "source": [
    "input5_1 = [1,1,0,1,1,1]\n",
    "input5_2 = [1,0,1,0,1,0,1,1,1,0,1,1]\n",
    "input5_3 = [0,0,1,1,1,0,0,0,0,1,1]"
   ]
  },
  {
   "cell_type": "code",
   "execution_count": 32,
   "metadata": {},
   "outputs": [],
   "source": [
    "# Write your code here\n",
    "def numof1(lst):\n",
    "    num = 0\n",
    "    max_num = 0\n",
    "    for x in range(len(lst)):\n",
    "        if lst[x] == 0:\n",
    "            num = 0\n",
    "        else:\n",
    "            num += 1\n",
    "            max_num = max(max_num, num)\n",
    "    return max_num"
   ]
  },
  {
   "cell_type": "code",
   "execution_count": 33,
   "metadata": {},
   "outputs": [
    {
     "data": {
      "text/plain": [
       "3"
      ]
     },
     "execution_count": 33,
     "metadata": {},
     "output_type": "execute_result"
    }
   ],
   "source": [
    "numof1(input5_1)"
   ]
  },
  {
   "cell_type": "code",
   "execution_count": 34,
   "metadata": {},
   "outputs": [
    {
     "data": {
      "text/plain": [
       "3"
      ]
     },
     "execution_count": 34,
     "metadata": {},
     "output_type": "execute_result"
    }
   ],
   "source": [
    "numof1(input5_2)"
   ]
  },
  {
   "cell_type": "code",
   "execution_count": 35,
   "metadata": {},
   "outputs": [
    {
     "data": {
      "text/plain": [
       "3"
      ]
     },
     "execution_count": 35,
     "metadata": {},
     "output_type": "execute_result"
    }
   ],
   "source": [
    "numof1(input5_3)"
   ]
  }
 ],
 "metadata": {
  "kernelspec": {
   "display_name": "Python 3 (ipykernel)",
   "language": "python",
   "name": "python3"
  },
  "language_info": {
   "codemirror_mode": {
    "name": "ipython",
    "version": 3
   },
   "file_extension": ".py",
   "mimetype": "text/x-python",
   "name": "python",
   "nbconvert_exporter": "python",
   "pygments_lexer": "ipython3",
   "version": "3.8.8"
  }
 },
 "nbformat": 4,
 "nbformat_minor": 4
}
